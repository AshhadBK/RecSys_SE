{
 "cells": [
  {
   "cell_type": "code",
   "execution_count": 31,
   "metadata": {},
   "outputs": [],
   "source": [
    "import pandas as pd\n",
    "import numpy as np\n",
    "from sklearn.feature_extraction.text import CountVectorizer\n",
    "from sklearn.metrics.pairwise import cosine_similarity###### helper functions. Use them when needed #######\n"
   ]
  },
  {
   "cell_type": "code",
   "execution_count": 1,
   "metadata": {},
   "outputs": [],
   "source": [
    "def get_title_from_index(index):\n",
    "\treturn df[df.index == index][\"title\"].values[0]\n",
    "\n",
    "def get_index_from_title(title):\n",
    "\treturn df[df.title == title][\"index\"].values[0]\n",
    "##################################################"
   ]
  },
  {
   "cell_type": "code",
   "execution_count": 57,
   "metadata": {},
   "outputs": [
    {
     "name": "stdout",
     "output_type": "stream",
     "text": [
      "Index(['index', 'budget', 'genres', 'homepage', 'id', 'keywords',\n",
      "       'original_language', 'original_title', 'overview', 'popularity',\n",
      "       'production_companies', 'production_countries', 'release_date',\n",
      "       'revenue', 'runtime', 'spoken_languages', 'status', 'tagline', 'title',\n",
      "       'vote_average', 'vote_count', 'cast', 'crew', 'director'],\n",
      "      dtype='object')\n"
     ]
    }
   ],
   "source": [
    "##Step 1: Read CSV File\n",
    "df = pd.read_csv(\"E:\\RecSys-Materials\\Movies.csv\")\n",
    "print(df.columns)"
   ]
  },
  {
   "cell_type": "code",
   "execution_count": 67,
   "metadata": {},
   "outputs": [],
   "source": [
    "##Step 2: Select Features\n",
    "\n",
    "features = ['keywords','cast','genres','director','vote_average']"
   ]
  },
  {
   "cell_type": "code",
   "execution_count": 80,
   "metadata": {},
   "outputs": [
    {
     "name": "stdout",
     "output_type": "stream",
     "text": [
      "Combined Features: 0    Action Adventure Fantasy Science Fiction Sam W...\n",
      "1    Adventure Fantasy Action Johnny Depp Orlando B...\n",
      "2    Action Adventure Crime Daniel Craig Christoph ...\n",
      "3    Action Crime Drama Thriller Christian Bale Mic...\n",
      "4    Action Adventure Science Fiction Taylor Kitsch...\n",
      "Name: combined_features, dtype: object\n"
     ]
    }
   ],
   "source": [
    "##Step 3: Create a column in DF which combines all selected features\n",
    "for feature in features:\n",
    "\tdf[feature] = df[feature].fillna('')\n",
    "\n",
    "def combine_features(row):\n",
    "\ttry:\n",
    "\t\treturn row[\"genres\"] +\" \"+row[\"cast\"]+\" \"+row[\"keywords\"]+\" \"+row[\"director\"]\n",
    "\texcept:\n",
    "\t\tprint (\"Error:\", row)\n",
    "\n",
    "df[\"combined_features\"] = df.apply(combine_features,axis=1)\n",
    "\n",
    "print(\"Combined Features:\", df[\"combined_features\"].head())"
   ]
  },
  {
   "cell_type": "code",
   "execution_count": 81,
   "metadata": {},
   "outputs": [],
   "source": [
    "##Step 4: Create count matrix from this new combined column\n",
    "cv = CountVectorizer()\n",
    "\n",
    "count_matrix = cv.fit_transform(df[\"combined_features\"])"
   ]
  },
  {
   "cell_type": "code",
   "execution_count": 82,
   "metadata": {},
   "outputs": [],
   "source": [
    "##Step 5: Compute the Cosine Similarity based on the count_matrix\n",
    "cosine_sim = cosine_similarity(count_matrix) \n",
    "#movie_user_likes = \"Avatar\"\n",
    "#movie_user_likes = \"Toy Story 3\"\n",
    "movie_user_likes = \"World War Z\"\n",
    "movie_user_likes = \"Brave\"\n",
    "movie_user_likes = \"Ice Age: Continental Drift\""
   ]
  },
  {
   "cell_type": "code",
   "execution_count": 83,
   "metadata": {},
   "outputs": [],
   "source": [
    "## Step 6: Get index of this movie from its title\n",
    "movie_index = get_index_from_title(movie_user_likes)"
   ]
  },
  {
   "cell_type": "code",
   "execution_count": 84,
   "metadata": {},
   "outputs": [],
   "source": [
    "similar_movies =  list(enumerate(cosine_sim[movie_index]))"
   ]
  },
  {
   "cell_type": "code",
   "execution_count": 89,
   "metadata": {},
   "outputs": [],
   "source": [
    "## Step 7: Get a list of similar movies in descending order of similarity score\n",
    "sorted_similar_movies = sorted(similar_movies,key=lambda x:x[1],reverse=True)"
   ]
  },
  {
   "cell_type": "code",
   "execution_count": 90,
   "metadata": {},
   "outputs": [
    {
     "name": "stdout",
     "output_type": "stream",
     "text": [
      "Ice Age: Continental Drift\n",
      "Ice Age: The Meltdown\n",
      "Ice Age\n",
      "Ice Age: Dawn of the Dinosaurs\n",
      "Penguins of Madagascar\n",
      "Bolt\n"
     ]
    }
   ],
   "source": [
    "## Step 8: Print titles of first 50 movies\n",
    "i=0\n",
    "for element in sorted_similar_movies:\n",
    "\t\tprint (get_title_from_index(element[0]))\n",
    "\t\ti=i+1\n",
    "\t\tif i>5:\n",
    "\t\t\tbreak"
   ]
  },
  {
   "cell_type": "code",
   "execution_count": null,
   "metadata": {},
   "outputs": [],
   "source": []
  },
  {
   "cell_type": "code",
   "execution_count": null,
   "metadata": {},
   "outputs": [],
   "source": []
  }
 ],
 "metadata": {
  "kernelspec": {
   "display_name": "Python 3",
   "language": "python",
   "name": "python3"
  },
  "language_info": {
   "codemirror_mode": {
    "name": "ipython",
    "version": 3
   },
   "file_extension": ".py",
   "mimetype": "text/x-python",
   "name": "python",
   "nbconvert_exporter": "python",
   "pygments_lexer": "ipython3",
   "version": "3.7.3"
  }
 },
 "nbformat": 4,
 "nbformat_minor": 2
}
